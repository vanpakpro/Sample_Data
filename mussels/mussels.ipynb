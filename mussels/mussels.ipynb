{
 "cells": [
  {
   "cell_type": "code",
   "execution_count": 80,
   "id": "186ea50d",
   "metadata": {},
   "outputs": [],
   "source": [
    "import pandas as pd\n",
    "\n",
    "from scipy.stats import shapiro\n",
    "from scipy.stats import pearsonr\n",
    "from scipy.stats import ttest_ind\n",
    "\n",
    "import seaborn as sns\n",
    "import matplotlib.pyplot as plt\n",
    "%matplotlib inline"
   ]
  },
  {
   "cell_type": "markdown",
   "id": "5fbe0a68",
   "metadata": {},
   "source": [
    "Нам предоставлены данные с размерами раковин мидий, выращенных в двух российских городах - в Санкт-Петербурге и Магадане:"
   ]
  },
  {
   "cell_type": "code",
   "execution_count": 81,
   "id": "e1a08c52",
   "metadata": {},
   "outputs": [],
   "source": [
    "petersburg = [0.0974, 0.1352, 0.0817, 0.1016, 0.0968, 0.1064, 0.105]\n",
    "magadan = [0.1033, 0.0915, 0.0781, 0.0685, 0.0677, 0.0697, 0.0764,\n",
    "           0.0689]"
   ]
  },
  {
   "cell_type": "markdown",
   "id": "06124073",
   "metadata": {},
   "source": [
    "Объединим исходные списки в единый DataFrame:"
   ]
  },
  {
   "cell_type": "code",
   "execution_count": 82,
   "id": "ade6fe2c",
   "metadata": {},
   "outputs": [
    {
     "data": {
      "text/html": [
       "<div>\n",
       "<style scoped>\n",
       "    .dataframe tbody tr th:only-of-type {\n",
       "        vertical-align: middle;\n",
       "    }\n",
       "\n",
       "    .dataframe tbody tr th {\n",
       "        vertical-align: top;\n",
       "    }\n",
       "\n",
       "    .dataframe thead th {\n",
       "        text-align: right;\n",
       "    }\n",
       "</style>\n",
       "<table border=\"1\" class=\"dataframe\">\n",
       "  <thead>\n",
       "    <tr style=\"text-align: right;\">\n",
       "      <th></th>\n",
       "      <th>Petersburg</th>\n",
       "      <th>Magadan</th>\n",
       "    </tr>\n",
       "  </thead>\n",
       "  <tbody>\n",
       "    <tr>\n",
       "      <th>0</th>\n",
       "      <td>0.0974</td>\n",
       "      <td>0.1033</td>\n",
       "    </tr>\n",
       "    <tr>\n",
       "      <th>1</th>\n",
       "      <td>0.1352</td>\n",
       "      <td>0.0915</td>\n",
       "    </tr>\n",
       "    <tr>\n",
       "      <th>2</th>\n",
       "      <td>0.0817</td>\n",
       "      <td>0.0781</td>\n",
       "    </tr>\n",
       "    <tr>\n",
       "      <th>3</th>\n",
       "      <td>0.1016</td>\n",
       "      <td>0.0685</td>\n",
       "    </tr>\n",
       "    <tr>\n",
       "      <th>4</th>\n",
       "      <td>0.0968</td>\n",
       "      <td>0.0677</td>\n",
       "    </tr>\n",
       "    <tr>\n",
       "      <th>5</th>\n",
       "      <td>0.1064</td>\n",
       "      <td>0.0697</td>\n",
       "    </tr>\n",
       "    <tr>\n",
       "      <th>6</th>\n",
       "      <td>0.1050</td>\n",
       "      <td>0.0764</td>\n",
       "    </tr>\n",
       "    <tr>\n",
       "      <th>7</th>\n",
       "      <td>NaN</td>\n",
       "      <td>0.0689</td>\n",
       "    </tr>\n",
       "  </tbody>\n",
       "</table>\n",
       "</div>"
      ],
      "text/plain": [
       "   Petersburg  Magadan\n",
       "0      0.0974   0.1033\n",
       "1      0.1352   0.0915\n",
       "2      0.0817   0.0781\n",
       "3      0.1016   0.0685\n",
       "4      0.0968   0.0677\n",
       "5      0.1064   0.0697\n",
       "6      0.1050   0.0764\n",
       "7         NaN   0.0689"
      ]
     },
     "execution_count": 82,
     "metadata": {},
     "output_type": "execute_result"
    }
   ],
   "source": [
    "# преобразование в Series\n",
    "petersburg = pd.Series(petersburg)\n",
    "magadan = pd.Series(magadan)\n",
    "\n",
    "data = pd.concat([petersburg, magadan], axis=1)\n",
    "data.rename(columns={0: 'Petersburg', 1: 'Magadan'}, inplace=True)\n",
    "data"
   ]
  },
  {
   "cell_type": "markdown",
   "id": "d7f79e3d",
   "metadata": {},
   "source": [
    "Наши массивы изначально были разных размеров, поэтому в полученном датафрейме появился один пропуск. Во избежание искажения и потерь данных, заполним пропуск медианым значением и уравняем массивы данных:"
   ]
  },
  {
   "cell_type": "code",
   "execution_count": 83,
   "id": "836dc83a",
   "metadata": {},
   "outputs": [
    {
     "data": {
      "text/html": [
       "<div>\n",
       "<style scoped>\n",
       "    .dataframe tbody tr th:only-of-type {\n",
       "        vertical-align: middle;\n",
       "    }\n",
       "\n",
       "    .dataframe tbody tr th {\n",
       "        vertical-align: top;\n",
       "    }\n",
       "\n",
       "    .dataframe thead th {\n",
       "        text-align: right;\n",
       "    }\n",
       "</style>\n",
       "<table border=\"1\" class=\"dataframe\">\n",
       "  <thead>\n",
       "    <tr style=\"text-align: right;\">\n",
       "      <th></th>\n",
       "      <th>Petersburg</th>\n",
       "      <th>Magadan</th>\n",
       "    </tr>\n",
       "  </thead>\n",
       "  <tbody>\n",
       "    <tr>\n",
       "      <th>0</th>\n",
       "      <td>0.0974</td>\n",
       "      <td>0.1033</td>\n",
       "    </tr>\n",
       "    <tr>\n",
       "      <th>1</th>\n",
       "      <td>0.1352</td>\n",
       "      <td>0.0915</td>\n",
       "    </tr>\n",
       "    <tr>\n",
       "      <th>2</th>\n",
       "      <td>0.0817</td>\n",
       "      <td>0.0781</td>\n",
       "    </tr>\n",
       "    <tr>\n",
       "      <th>3</th>\n",
       "      <td>0.1016</td>\n",
       "      <td>0.0685</td>\n",
       "    </tr>\n",
       "    <tr>\n",
       "      <th>4</th>\n",
       "      <td>0.0968</td>\n",
       "      <td>0.0677</td>\n",
       "    </tr>\n",
       "    <tr>\n",
       "      <th>5</th>\n",
       "      <td>0.1064</td>\n",
       "      <td>0.0697</td>\n",
       "    </tr>\n",
       "    <tr>\n",
       "      <th>6</th>\n",
       "      <td>0.1050</td>\n",
       "      <td>0.0764</td>\n",
       "    </tr>\n",
       "    <tr>\n",
       "      <th>7</th>\n",
       "      <td>0.1016</td>\n",
       "      <td>0.0689</td>\n",
       "    </tr>\n",
       "  </tbody>\n",
       "</table>\n",
       "</div>"
      ],
      "text/plain": [
       "   Petersburg  Magadan\n",
       "0      0.0974   0.1033\n",
       "1      0.1352   0.0915\n",
       "2      0.0817   0.0781\n",
       "3      0.1016   0.0685\n",
       "4      0.0968   0.0677\n",
       "5      0.1064   0.0697\n",
       "6      0.1050   0.0764\n",
       "7      0.1016   0.0689"
      ]
     },
     "execution_count": 83,
     "metadata": {},
     "output_type": "execute_result"
    }
   ],
   "source": [
    "median_value = data['Petersburg'].median()\n",
    "data.fillna(median_value, inplace=True)\n",
    "data"
   ]
  },
  {
   "cell_type": "markdown",
   "id": "c3b6e611",
   "metadata": {},
   "source": [
    "### Тест на нормальность"
   ]
  },
  {
   "cell_type": "markdown",
   "id": "53910b23",
   "metadata": {},
   "source": [
    "Для проверки нашего массива данных с помощью подходящего статистического теста сначала проверим данные на нормальность."
   ]
  },
  {
   "cell_type": "markdown",
   "id": "1e8e3f91",
   "metadata": {},
   "source": [
    "Для начала обозначим гипотезы и установим уровень значимости:"
   ]
  },
  {
   "cell_type": "code",
   "execution_count": 84,
   "id": "00fefb9e",
   "metadata": {},
   "outputs": [],
   "source": [
    "H0 = 'Данные распределены нормально'\n",
    "Ha = 'Данные не распределены нормально (отвергаем нулевую гипотезу)'\n",
    "alpha = 0.05"
   ]
  },
  {
   "cell_type": "markdown",
   "id": "97f838b5",
   "metadata": {},
   "source": [
    "Для проверки выберем **теста Шапиро-Уилка**, поскольку данный тест показывает надежные результаты для выборок с небольшими размерами."
   ]
  },
  {
   "cell_type": "code",
   "execution_count": 85,
   "id": "ea2ad84d",
   "metadata": {},
   "outputs": [
    {
     "name": "stdout",
     "output_type": "stream",
     "text": [
      "p=0.101\n",
      "Данные распределены нормально\n"
     ]
    }
   ],
   "source": [
    "_, p = shapiro(data)\n",
    "print('p=%.3f' % p)\n",
    "print(('Данные не распределены нормально', 'Данные распределены нормально')[p > alpha])"
   ]
  },
  {
   "cell_type": "markdown",
   "id": "6f6755c2",
   "metadata": {},
   "source": [
    "Данные прошли проверку на нормальность, следовательно теперь мы можем приступить к исследованию связи между признаками с помощью **корреляции Пирсона**. Данный корреляционный тест подходит для данных с гауссовским распределением."
   ]
  },
  {
   "cell_type": "markdown",
   "id": "29ff07b8",
   "metadata": {},
   "source": [
    "### Поиск корреляций"
   ]
  },
  {
   "cell_type": "markdown",
   "id": "a5449d03",
   "metadata": {},
   "source": [
    "Проверим имеющиеся нормально распределенные данные на наличие связи с помощью **корреляции Пирсона**:"
   ]
  },
  {
   "cell_type": "code",
   "execution_count": 86,
   "id": "85d68343",
   "metadata": {},
   "outputs": [
    {
     "name": "stdout",
     "output_type": "stream",
     "text": [
      "Нет значимой корреляции между двумя переменными (мы не можем отвергнуть нулевую гипотезу)\n"
     ]
    }
   ],
   "source": [
    "corr, p = pearsonr(data['Petersburg'], data['Magadan'])\n",
    "\n",
    "if p > alpha:\n",
    "    print(\"Нет значимой корреляции между двумя переменными (мы не можем отвергнуть нулевую гипотезу)\")\n",
    "else:\n",
    "    print(\"Есть значимая разница между двумя переменными (отвергаем нулевую гипотезу)\")"
   ]
  },
  {
   "cell_type": "markdown",
   "id": "a924ab88",
   "metadata": {},
   "source": [
    "Проведем проверку полученного результата через визуализацию корреляции:"
   ]
  },
  {
   "cell_type": "code",
   "execution_count": 87,
   "id": "a94c01f9",
   "metadata": {},
   "outputs": [
    {
     "data": {
      "image/png": "[encoded data removed]",
      "text/plain": [
       "<Figure size 640x480 with 1 Axes>"
      ]
     },
     "metadata": {},
     "output_type": "display_data"
    }
   ],
   "source": [
    "sns.scatterplot(data=data, x='Magadan', y='Petersburg');"
   ]
  },
  {
   "cell_type": "markdown",
   "id": "de0b9c73",
   "metadata": {},
   "source": [
    "**Вывод:** статистически значимая корреляция между двумя переменными отсутствует."
   ]
  },
  {
   "cell_type": "markdown",
   "id": "d021d041",
   "metadata": {},
   "source": [
    "Для дальнейшей проверки гипотез нам подходит **параметрический статистический тест**. "
   ]
  },
  {
   "cell_type": "markdown",
   "id": "c827d9e8",
   "metadata": {},
   "source": [
    "### Параметрический тест и проверка гипотез"
   ]
  },
  {
   "cell_type": "markdown",
   "id": "62599bfe",
   "metadata": {},
   "source": [
    "**Задача:** выяснить, есть ли разница в среднем размере раковин мидий в зависимости от города-производителя."
   ]
  },
  {
   "cell_type": "markdown",
   "id": "24448641",
   "metadata": {},
   "source": [
    "В нашей задаче присутствуют две независимые совокупности - размеры мидий, выращенных в Санкт-Петербурге и Магадане. Зависимая переменная (размер раковины) является количественной, выборка небольшого размера, следовательно нам нужен тест на сравнение выборок, а именно **независимый T-тест**."
   ]
  },
  {
   "cell_type": "markdown",
   "id": "8da4fc5f",
   "metadata": {},
   "source": [
    "Выбор теста обусловлен следующим алгоритмом:\n",
    "\n",
    "\n",
    "<left> <img src = https://lms.skillfactory.ru/assets/courseware/v1/69e3bc927ae293c1ad78ad4c1fe30ed4/asset-v1:SkillFactory+DSPR-2.0+14JULY2021+type@asset+block/dst-eda-4-10.png alt=\"drawing\" style=\"width:800px;\">"
   ]
  },
  {
   "cell_type": "markdown",
   "id": "d38cee3e",
   "metadata": {},
   "source": [
    "Уточним нулевую и альтернативную гипотезы для текущей задачи:"
   ]
  },
  {
   "cell_type": "code",
   "execution_count": 88,
   "id": "b0869700",
   "metadata": {},
   "outputs": [],
   "source": [
    "H0 = 'Нет разницы в среднем размере раковин мидий по двум городам'\n",
    "Ha = 'Найдена разница в среднем размере раковин мидий по двум городам'"
   ]
  },
  {
   "cell_type": "markdown",
   "id": "6d95bafe",
   "metadata": {},
   "source": [
    "Теперь решим задачу с помощью соответствующего статистического теста."
   ]
  },
  {
   "cell_type": "code",
   "execution_count": 89,
   "id": "35827513",
   "metadata": {},
   "outputs": [
    {
     "name": "stdout",
     "output_type": "stream",
     "text": [
      "\n",
      "*** Результаты независимого T-теста ***\n",
      "0.0 <= 0.05. Мы отвергаем нулевую гипотезу. Найдена разница в среднем размере раковин мидий по двум городам\n"
     ]
    }
   ],
   "source": [
    "def t_test(df):\n",
    "    print('\\n' + \"*** Результаты независимого T-теста ***\")\n",
    "    test_results = ttest_ind(data['Petersburg'], data['Magadan'], equal_var=True)\n",
    "\n",
    "    p = round(test_results[1],2)\n",
    "\n",
    "    if p>alpha:\n",
    "        print(f\"{p} > {alpha}. Мы не можем отвергнуть нулевую гипотезу. {H0}\")\n",
    "    else:\n",
    "        print(f\"{p} <= {alpha}. Мы отвергаем нулевую гипотезу. {Ha}\")\n",
    "\n",
    "t_test(data)"
   ]
  },
  {
   "cell_type": "markdown",
   "id": "d320590a",
   "metadata": {},
   "source": [
    "Таким образом, **мы обнаружили разницу в размерах раковин, выращиваемых в разных городах**. И действительно, у производителя морепродуктов из Санкт-Петербурга мидии больше, чем у соответствующего производителя из Магадана - при дальнейшем анализе это можно обнаружить:"
   ]
  },
  {
   "cell_type": "code",
   "execution_count": 90,
   "id": "df2e152e",
   "metadata": {},
   "outputs": [
    {
     "name": "stdout",
     "output_type": "stream",
     "text": [
      "Разница между средним размером раковины мидии составляет: 0.025\n"
     ]
    }
   ],
   "source": [
    "difference = abs(data['Petersburg'].mean() - data['Magadan'].mean())\n",
    "print(f'Разница между средним размером раковины мидии составляет: {difference:.3f}') "
   ]
  },
  {
   "cell_type": "markdown",
   "id": "7e17574c",
   "metadata": {},
   "source": [
    "P-value равен нулю, разница вычислена. Альтернативная гипотеза подтверждена."
   ]
  }
 ],
 "metadata": {
  "kernelspec": {
   "display_name": "Python 3 (ipykernel)",
   "language": "python",
   "name": "python3"
  },
  "language_info": {
   "codemirror_mode": {
    "name": "ipython",
    "version": 3
   },
   "file_extension": ".py",
   "mimetype": "text/x-python",
   "name": "python",
   "nbconvert_exporter": "python",
   "pygments_lexer": "ipython3",
   "version": "3.9.13"
  }
 },
 "nbformat": 4,
 "nbformat_minor": 5
}
